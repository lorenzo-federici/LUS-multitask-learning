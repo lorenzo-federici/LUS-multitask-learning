{
 "cells": [
  {
   "cell_type": "code",
   "execution_count": 1,
   "metadata": {},
   "outputs": [
    {
     "name": "stdout",
     "output_type": "stream",
     "text": [
      "---> GPU is available <---\n"
     ]
    }
   ],
   "source": [
    "import sys\n",
    "base_path = '/Users/lorenzofederici/Univpm/Tesi/LUS-multitask-learning'\n",
    "if base_path not in sys.path:\n",
    "    sys.path.append(base_path)\n",
    "\n",
    "import os\n",
    "import json\n",
    "import tensorflow as tf\n",
    "from keras import backend as K\n",
    "\n",
    "# from src.utils.dataset import *\n",
    "# from src.experiment import Experiment\n",
    "\n",
    "gpu = len(tf.config.list_physical_devices('GPU'))>0\n",
    "if gpu:\n",
    "    tf.config.set_visible_devices([tf.config.list_physical_devices('GPU')[0],tf.config.list_physical_devices('CPU')[0]])\n",
    "    tf.config.experimental.set_memory_growth(tf.config.list_physical_devices('GPU')[0], True)\n",
    "    print(\"---> GPU is available <---\")"
   ]
  },
  {
   "cell_type": "code",
   "execution_count": 2,
   "metadata": {},
   "outputs": [],
   "source": [
    "exps_path = base_path + '/config/params.json'\n",
    "\n",
    "with open(exps_path) as f:\n",
    "    configs = json.load(f)"
   ]
  },
  {
   "cell_type": "code",
   "execution_count": 4,
   "metadata": {},
   "outputs": [
    {
     "name": "stdout",
     "output_type": "stream",
     "text": [
      ">>Setting:  {'IMG_SHAPE': 224, 'N_CLASS': 4, 'SEED': 42}\n",
      ">>Experiment:  [{'backbone': 'UNet', 'task': 'segmentation', 'out_class': 1, 'batch_size': 4, 'epoch': 1, 'split_ratio': [0.6, 0.2, 0.2], 'optimizer': 'Adam', 'lr': 0.0001, 'augmentation': True}, {'backbone': 'ResNet', 'task': 'segmentation', 'out_class': 1, 'batch_size': 4, 'epoch': 1, 'split_ratio': [0.6, 0.2, 0.2], 'optimizer': 'Adam', 'lr': 0.0001, 'augmentation': True}, {'backbone': 'ResNet', 'task': 'classsification', 'out_class': 1, 'batch_size': 4, 'epoch': 1, 'split_ratio': [0.6, 0.2, 0.2], 'optimizer': 'Adam', 'lr': 0.0001, 'augmentation': True}]\n"
     ]
    }
   ],
   "source": [
    "idx = 0\n",
    "configs_general = configs['SETTING']\n",
    "configs_exps    = configs['EXPS'][idx]\n",
    "\n",
    "print('>>Setting: ', configs_general)\n",
    "print('>>Experiment: ', configs_exps)"
   ]
  },
  {
   "cell_type": "code",
   "execution_count": null,
   "metadata": {},
   "outputs": [],
   "source": [
    "K.clear_session\n",
    "for config in configs_exps:\n",
    "    experiment = Experiment(configs_general, config)\n",
    "\n",
    "experiment.build_experiment()\n",
    "experiment.split_dataset()\n",
    "\n",
    "model = experiment.build_model()\n",
    "model = experiment.compile_model(model)\n",
    "history = experiment.train_model(model)\n",
    "# experiment.nn_train_graphs(history)"
   ]
  },
  {
   "cell_type": "code",
   "execution_count": null,
   "metadata": {},
   "outputs": [],
   "source": [
    "experiment.nn_train_graphs(history)"
   ]
  }
 ],
 "metadata": {
  "kernelspec": {
   "display_name": "venv",
   "language": "python",
   "name": "python3"
  },
  "language_info": {
   "codemirror_mode": {
    "name": "ipython",
    "version": 3
   },
   "file_extension": ".py",
   "mimetype": "text/x-python",
   "name": "python",
   "nbconvert_exporter": "python",
   "pygments_lexer": "ipython3",
   "version": "3.11.5"
  }
 },
 "nbformat": 4,
 "nbformat_minor": 2
}
