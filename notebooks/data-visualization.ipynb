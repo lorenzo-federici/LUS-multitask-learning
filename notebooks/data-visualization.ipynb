{
 "cells": [
  {
   "cell_type": "markdown",
   "metadata": {},
   "source": [
    "# **Python Imports & Settings**"
   ]
  },
  {
   "cell_type": "code",
   "execution_count": 1,
   "metadata": {},
   "outputs": [],
   "source": [
    "import os\n",
    "import sys\n",
    "base_path = os.path.abspath(os.path.join(os.getcwd(), \"..\"))\n",
    "if base_path not in sys.path:\n",
    "    sys.path.append(base_path)\n",
    "\n",
    "from src.utils.class_lib import HDF5Dataset\n",
    "from src.utils.class_lib import FrameTargetDataset\n",
    "from src.utils import lib\n",
    "\n",
    "import numpy as np\n",
    "import napari\n",
    "import PyQt6\n",
    "\n",
    "import matplotlib.pyplot as plt\n",
    "import json\n"
   ]
  },
  {
   "cell_type": "code",
   "execution_count": 2,
   "metadata": {},
   "outputs": [],
   "source": [
    "with open(f\"{base_path}/config/parameters.json\", \"r\") as file:\n",
    "        parametri = json.load(file)\n",
    "        \n",
    "mode  = parametri[\"setting\"][\"mode\"]\n",
    "rseed = parametri[\"setting\"][\"rseed\"]\n",
    "\n",
    "# Paths\n",
    "mode_path = base_path + '/data/' + mode\n",
    "\n",
    "pkl_frame_res_path    = mode_path + '/frames-study.pkl'\n",
    "dataset_h5_path       = mode_path + '/dataset.h5'\n",
    "pkl_hospitaldict_path = mode_path + '/hospitals-patients-dict.pkl'"
   ]
  },
  {
   "cell_type": "markdown",
   "metadata": {},
   "source": [
    "# **Getting Data**"
   ]
  },
  {
   "cell_type": "code",
   "execution_count": 3,
   "metadata": {},
   "outputs": [
    {
     "name": "stderr",
     "output_type": "stream",
     "text": [
      "Calculating frames and index map:   0%|          | 0/230 [00:00<?, ?video/s]"
     ]
    },
    {
     "name": "stderr",
     "output_type": "stream",
     "text": [
      "Calculating frames and index map: 100%|██████████| 230/230 [00:00<00:00, 3886.63video/s]"
     ]
    },
    {
     "name": "stdout",
     "output_type": "stream",
     "text": [
      "\n",
      "230 videos (2154 frames) loaded.\n"
     ]
    },
    {
     "name": "stderr",
     "output_type": "stream",
     "text": [
      "\n"
     ]
    }
   ],
   "source": [
    "# Create the custom dataset\n",
    "try:\n",
    "    del(dataset)\n",
    "    dataset = HDF5Dataset(dataset_h5_path)\n",
    "except:\n",
    "    dataset = HDF5Dataset(dataset_h5_path)"
   ]
  },
  {
   "cell_type": "code",
   "execution_count": 4,
   "metadata": {},
   "outputs": [
    {
     "name": "stdout",
     "output_type": "stream",
     "text": [
      "Medical Center: Brescia\n",
      "  Frames in center: 1410\n",
      "  Train patients:\n",
      "   Paziente 8: 129 frames\n",
      "   Paziente 1: 9 frames\n",
      "   Paziente 3: 111 frames\n",
      "   Paziente 2: 78 frames\n",
      "   Paziente 4: 116 frames\n",
      "   Paziente 7: 136 frames\n",
      "   Paziente 13: 81 frames\n",
      "   Paziente 6: 200 frames\n",
      "   Paziente 5: 60 frames\n",
      "  Test patients:\n",
      "   Paziente 10: 153 frames\n",
      "   Paziente 11: 98 frames\n",
      "   Paziente 12: 84 frames\n",
      "   Paziente 9: 155 frames\n",
      "Medical Center: Gemelli - Roma\n",
      "  Frames in center: 158\n",
      "  Train patients:\n",
      "   Paziente 1: 116 frames\n",
      "   Paziente 2: 39 frames\n",
      "  Test patients:\n",
      "   Paziente 3: 3 frames\n",
      "Medical Center: Lucca\n",
      "  Frames in center: 118\n",
      "  Train patients:\n",
      "   Paziente 1: 51 frames\n",
      "  Test patients:\n",
      "   Paziente 2: 67 frames\n",
      "Medical Center: No Covid Data\n",
      "  Frames in center: 400\n",
      "  Train patients:\n",
      "   Paziente 8: 42 frames\n",
      "   Paziente 12: 33 frames\n",
      "   Paziente 2: 58 frames\n",
      "   Paziente 11: 51 frames\n",
      "   Paziente 4: 16 frames\n",
      "   Paziente 13: 13 frames\n",
      "   Paziente 6: 11 frames\n",
      "   Paziente 10: 14 frames\n",
      "   Paziente 14: 8 frames\n",
      "  Test patients:\n",
      "   Paziente 1: 12 frames\n",
      "   Paziente 3: 10 frames\n",
      "   Paziente 7: 11 frames\n",
      "   Paziente 9: 115 frames\n",
      "   Paziente 5: 6 frames\n",
      "Medical Center: Pavia\n",
      "  Frames in center: 68\n",
      "  Train patients:\n",
      "  Test patients:\n",
      "   Paziente 1: 68 frames\n",
      "\n",
      "Total Train Frames: 1372 (64%)\n",
      "Total Test Frames: 782 (36%)\n"
     ]
    }
   ],
   "source": [
    "train_subset, test_subset, split_info = lib.splitting_strategy(dataset, rseed, pkl_frame_res_path, 0.7)\n",
    "\n",
    "# Print diagnostic information\n",
    "for medical_center in split_info['medical_center_patients'].keys():\n",
    "    print(f\"Medical Center: {medical_center}\")\n",
    "    print(f\"  Frames in center: {split_info['frame_counts_by_center'][medical_center]}\")\n",
    "    print(f\"  Train patients:\")\n",
    "    for patient in split_info['train_patients_by_center'][medical_center]:\n",
    "        frame_count = split_info['frame_counts_by_center_patient'][medical_center][patient]\n",
    "        print(f\"   {patient}: {frame_count} frames\")\n",
    "    print(f\"  Test patients:\")\n",
    "    for patient in split_info['test_patients_by_center'][medical_center]:\n",
    "        frame_count = split_info['frame_counts_by_center_patient'][medical_center][patient]\n",
    "        print(f\"   {patient}: {frame_count} frames\")\n",
    "\n",
    "total_train_frames = split_info['total_train_frames']\n",
    "total_test_frames = split_info['total_test_frames']\n",
    "print(f\"\\nTotal Train Frames: {total_train_frames} ({round(total_train_frames*100/len(dataset))}%)\")\n",
    "print(f\"Total Test Frames: {total_test_frames} ({round(total_test_frames*100/len(dataset))}%)\")"
   ]
  },
  {
   "cell_type": "code",
   "execution_count": 5,
   "metadata": {},
   "outputs": [],
   "source": [
    "train_dataset = FrameTargetDataset(train_subset)\n",
    "test_dataset  = FrameTargetDataset(test_subset)"
   ]
  },
  {
   "cell_type": "markdown",
   "metadata": {},
   "source": [
    "# **Napari Visualization**"
   ]
  },
  {
   "cell_type": "code",
   "execution_count": null,
   "metadata": {},
   "outputs": [],
   "source": [
    "# Carica il tuo dataset e organizza i frame come un array tridimensionale\n",
    "frames = []  # Lista di frame\n",
    "frames_mask = []\n",
    "for frame_tensor, mask_tensor in test_dataset:\n",
    "    frames.append(frame_tensor.numpy())  # Converte il tensore in un array numpy\n",
    "\n",
    "    mask_rgb = np.zeros((224, 224, 3), dtype=np.uint8)  # Crea un'immagine RGB vuota\n",
    "    mask_rgb[mask_tensor.numpy()[:, :, 0] >= 0] = [255, 255, 255]  # Rosso (R, G, B)\n",
    "    \n",
    "    frames_mask.append(mask_rgb)  # Converte il tensore in un array numpy\n",
    "\n",
    "# Crea un array numpy tridimensionale (tempo, altezza, larghezza)\n",
    "video = np.stack(frames)\n",
    "video_mask = np.stack(frames_mask)\n",
    "\n",
    "video = video[:5,:,:,:]\n",
    "video_mask = video_mask[:5,:,:,:]\n",
    "\n"
   ]
  },
  {
   "cell_type": "code",
   "execution_count": null,
   "metadata": {},
   "outputs": [],
   "source": [
    "viewer = napari.Viewer()\n",
    "# Aggiungi il video a Napari\n",
    "#viewer.add_image(video, name='Video') \n",
    "viewer.add_labels(video_mask, name='Video') \n",
    "\n",
    "napari.run()"
   ]
  }
 ],
 "metadata": {
  "kernelspec": {
   "display_name": "myenv",
   "language": "python",
   "name": "python3"
  },
  "language_info": {
   "codemirror_mode": {
    "name": "ipython",
    "version": 3
   },
   "file_extension": ".py",
   "mimetype": "text/x-python",
   "name": "python",
   "nbconvert_exporter": "python",
   "pygments_lexer": "ipython3",
   "version": "3.11.5"
  },
  "orig_nbformat": 4
 },
 "nbformat": 4,
 "nbformat_minor": 2
}
